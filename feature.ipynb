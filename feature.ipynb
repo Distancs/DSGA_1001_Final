{
 "cells": [
  {
   "cell_type": "code",
   "execution_count": 1,
   "metadata": {},
   "outputs": [],
   "source": [
    "import numpy as np\n",
    "import pandas as pd\n",
    "import matplotlib.pyplot as plt\n",
    "import os\n",
    "import requests\n",
    "import sys"
   ]
  },
  {
   "cell_type": "code",
   "execution_count": 2,
   "metadata": {},
   "outputs": [],
   "source": [
    "imbd_data = pd.read_csv('final_voting_yeah.csv',index_col=0)"
   ]
  },
  {
   "cell_type": "code",
   "execution_count": 3,
   "metadata": {},
   "outputs": [],
   "source": [
    "text_data = imbd_data.loc[: , ['Director', 'Writer', 'First_actor', 'Second_actor', 'Third_actor', 'Forth_actor']]"
   ]
  },
  {
   "cell_type": "code",
   "execution_count": 4,
   "metadata": {},
   "outputs": [],
   "source": [
    "from collections import Counter"
   ]
  },
  {
   "cell_type": "code",
   "execution_count": 5,
   "metadata": {},
   "outputs": [],
   "source": [
    "DIRECTOR_W = 4\n",
    "WRITER_W = 1\n",
    "ACTOR_W = 4\n",
    "ACTOR_W_1 = 2"
   ]
  },
  {
   "cell_type": "code",
   "execution_count": 6,
   "metadata": {},
   "outputs": [],
   "source": [
    "weight_dict = {\n",
    "    'Director':DIRECTOR_W,\n",
    "    'Writer':WRITER_W,\n",
    "    'First_actor':ACTOR_W,\n",
    "    'Second_actor':ACTOR_W,\n",
    "    'Third_actor':ACTOR_W_1,\n",
    "    'Forth_actor':ACTOR_W_1\n",
    "}"
   ]
  },
  {
   "cell_type": "code",
   "execution_count": 7,
   "metadata": {},
   "outputs": [],
   "source": [
    "def get_weight(type):\n",
    "    if type == 'Director':\n",
    "        return word_count(text_data[type].tolist(), DIRECTOR_W)\n",
    "    elif type == 'Writer':\n",
    "        return word_count(text_data[type].tolist(), WRITER_W)\n",
    "    elif type == 'First_actor' or type == 'Second_actor':\n",
    "        return word_count(text_data[type].tolist(), ACTOR_W)\n",
    "    else: return word_count(text_data[type].tolist(), ACTOR_W_1)\n",
    "    \n",
    "def word_count(name_list, adj_fct):\n",
    "    count = Counter()\n",
    "    for name in name_list:\n",
    "        if type(name) is str: count[name.strip()] += 1 * adj_fct\n",
    "    return count\n",
    "\n",
    "def conbime_act():\n",
    "    c1 = get_weight('First_actor')\n",
    "    c2 = get_weight('Second_actor')\n",
    "    c3 = get_weight('Third_actor')\n",
    "    c4 = get_weight('Forth_actor')\n",
    "    keys = [*c1.keys()] + [*c2.keys()]  + [*c3.keys()] + [*c4.keys()]   \n",
    "    m_dic = dict.fromkeys(keys)\n",
    "    for key in m_dic.keys():\n",
    "        count = 0\n",
    "        if key in c1.keys(): count += c1[key]\n",
    "        if key in c2.keys(): count += c2[key]\n",
    "        if key in c3.keys(): count += c3[key]\n",
    "        if key in c4.keys(): count += c4[key]\n",
    "        m_dic[key] = count\n",
    "    return m_dic"
   ]
  },
  {
   "cell_type": "code",
   "execution_count": 8,
   "metadata": {},
   "outputs": [],
   "source": [
    "alpha_smoothing = 0.005 "
   ]
  },
  {
   "cell_type": "code",
   "execution_count": 17,
   "metadata": {},
   "outputs": [],
   "source": [
    "def normed_adj_weight(name, role):\n",
    "    soc_loc = ['imdbRating', 'Internet_Movie_Database', 'Rotten_Tomatoes', 'Metacritic']\n",
    "    col = role\n",
    "    if role == 'First_actor' or role == 'Second_actor' or role == 'Third_actor' or role == 'Forth_actor':\n",
    "        col = ['First_actor' , 'Second_actor', 'Third_actor', 'Forth_actor']\n",
    "        score = 0\n",
    "        leng = 0\n",
    "        for co in col:\n",
    "            idc = text_data[co][text_data[col][text_data[col] == name].notna()[co]].index.values.tolist()\n",
    "            for id in idc:\n",
    "                sco_of_film = (imbd_data.iloc[id][['imdbRating', 'Internet_Movie_Database', 'Rotten_Tomatoes', 'Metacritic']]).mean()\n",
    "                sum_of_weight = sum([weight_dict[item] for item in weight_dict if type(imbd_data.iloc[id][item]) is str])\n",
    "                base = np.log(sco_of_film)\n",
    "                score += base + sco_of_film*(weight_dict[co])/sum_of_weight\n",
    "            leng += len(idc)\n",
    "        smoothing_weight = (1 + alpha_smoothing)/(leng + len(imbd_data)*alpha_smoothing)\n",
    "        final_socre = score*smoothing_weight*np.log(len(imbd_data)/conbime_act()[name])\n",
    "    else: \n",
    "        idx = text_data[col][text_data[col] == name].index.values.tolist()\n",
    "        score = 0\n",
    "        for id in idx:\n",
    "            sco_of_film = (imbd_data.iloc[id][['imdbRating', 'Internet_Movie_Database', 'Rotten_Tomatoes', 'Metacritic']]).mean()\n",
    "            sum_of_weight = sum([weight_dict[item] for item in weight_dict if type(imbd_data.iloc[id][item]) is str])\n",
    "            base = np.log(sco_of_film)\n",
    "            score += base + sco_of_film*(weight_dict[role])/sum_of_weight\n",
    "        smoothing_weight = (1 + alpha_smoothing)/(len(idx) + len(imbd_data)*alpha_smoothing)\n",
    "        final_socre = score*smoothing_weight*np.log(len(imbd_data)/get_weight(role)[name])\n",
    "    return final_socre"
   ]
  },
  {
   "cell_type": "code",
   "execution_count": 23,
   "metadata": {},
   "outputs": [],
   "source": [
    "score_list = []\n",
    "for i in range(len(imbd_data)):\n",
    "    score_per_film = 0\n",
    "    for col in ['Director', 'Writer', 'First_actor', 'Second_actor', 'Third_actor', 'Forth_actor']:\n",
    "        if type(imbd_data.iloc[i][col]) is str:\n",
    "            score_per_film+= normed_adj_weight(imbd_data.iloc[i][col], col)\n",
    "    score_list.append(score_per_film)"
   ]
  },
  {
   "cell_type": "code",
   "execution_count": 24,
   "metadata": {},
   "outputs": [
    {
     "data": {
      "text/plain": [
       "11116"
      ]
     },
     "execution_count": 24,
     "metadata": {},
     "output_type": "execute_result"
    }
   ],
   "source": [
    "len(score_list)"
   ]
  },
  {
   "cell_type": "code",
   "execution_count": 25,
   "metadata": {},
   "outputs": [
    {
     "data": {
      "text/plain": [
       "[18.60091103807606,\n",
       " 20.004369209192493,\n",
       " 12.257118610848615,\n",
       " 21.101227328279098,\n",
       " 21.574697913694727,\n",
       " 16.534942004304263,\n",
       " 16.148456328194076,\n",
       " 11.710897854844657,\n",
       " 21.200908460159948,\n",
       " 19.550654657380466]"
      ]
     },
     "execution_count": 25,
     "metadata": {},
     "output_type": "execute_result"
    }
   ],
   "source": [
    "score_list[:10]"
   ]
  },
  {
   "cell_type": "code",
   "execution_count": 28,
   "metadata": {},
   "outputs": [],
   "source": [
    "imbd_data['Adj_Score'] = score_list"
   ]
  },
  {
   "cell_type": "code",
   "execution_count": 35,
   "metadata": {},
   "outputs": [],
   "source": [
    "my_data = imbd_data.drop(['Director', 'Writer', 'First_actor', 'Second_actor', 'Third_actor', 'Forth_actor', 'imdbRating', 'Internet_Movie_Database', 'Rotten_Tomatoes', 'Metacritic'], axis = 1)"
   ]
  },
  {
   "cell_type": "code",
   "execution_count": null,
   "metadata": {},
   "outputs": [],
   "source": [
    "movie.to_csv('final_version_yeah.csv.csv')"
   ]
  }
 ],
 "metadata": {
  "kernelspec": {
   "display_name": "Python 3",
   "language": "python",
   "name": "python3"
  },
  "language_info": {
   "codemirror_mode": {
    "name": "ipython",
    "version": 3
   },
   "file_extension": ".py",
   "mimetype": "text/x-python",
   "name": "python",
   "nbconvert_exporter": "python",
   "pygments_lexer": "ipython3",
   "version": "3.6.7"
  }
 },
 "nbformat": 4,
 "nbformat_minor": 2
}
